{
 "cells": [
  {
   "cell_type": "code",
   "execution_count": 1,
   "id": "8d9354ba",
   "metadata": {
    "execution": {
     "iopub.execute_input": "2024-03-26T08:45:54.437468Z",
     "iopub.status.busy": "2024-03-26T08:45:54.436852Z",
     "iopub.status.idle": "2024-03-26T08:45:56.784526Z",
     "shell.execute_reply": "2024-03-26T08:45:56.783359Z"
    },
    "papermill": {
     "duration": 2.356082,
     "end_time": "2024-03-26T08:45:56.787276",
     "exception": false,
     "start_time": "2024-03-26T08:45:54.431194",
     "status": "completed"
    },
    "tags": []
   },
   "outputs": [
    {
     "data": {
      "text/html": [
       "<div>\n",
       "<style scoped>\n",
       "    .dataframe tbody tr th:only-of-type {\n",
       "        vertical-align: middle;\n",
       "    }\n",
       "\n",
       "    .dataframe tbody tr th {\n",
       "        vertical-align: top;\n",
       "    }\n",
       "\n",
       "    .dataframe thead th {\n",
       "        text-align: right;\n",
       "    }\n",
       "</style>\n",
       "<table border=\"1\" class=\"dataframe\">\n",
       "  <thead>\n",
       "    <tr style=\"text-align: right;\">\n",
       "      <th></th>\n",
       "      <th>Avg. Area Income</th>\n",
       "      <th>Avg. Area House Age</th>\n",
       "      <th>Avg. Area Number of Rooms</th>\n",
       "      <th>Avg. Area Number of Bedrooms</th>\n",
       "      <th>Area Population</th>\n",
       "      <th>Price</th>\n",
       "      <th>Address</th>\n",
       "    </tr>\n",
       "  </thead>\n",
       "  <tbody>\n",
       "    <tr>\n",
       "      <th>0</th>\n",
       "      <td>79545.458574</td>\n",
       "      <td>5.682861</td>\n",
       "      <td>7.009188</td>\n",
       "      <td>4.09</td>\n",
       "      <td>23086.800503</td>\n",
       "      <td>1.059034e+06</td>\n",
       "      <td>208 Michael Ferry Apt. 674\\nLaurabury, NE 3701...</td>\n",
       "    </tr>\n",
       "    <tr>\n",
       "      <th>1</th>\n",
       "      <td>79248.642455</td>\n",
       "      <td>6.002900</td>\n",
       "      <td>6.730821</td>\n",
       "      <td>3.09</td>\n",
       "      <td>40173.072174</td>\n",
       "      <td>1.505891e+06</td>\n",
       "      <td>188 Johnson Views Suite 079\\nLake Kathleen, CA...</td>\n",
       "    </tr>\n",
       "    <tr>\n",
       "      <th>2</th>\n",
       "      <td>61287.067179</td>\n",
       "      <td>5.865890</td>\n",
       "      <td>8.512727</td>\n",
       "      <td>5.13</td>\n",
       "      <td>36882.159400</td>\n",
       "      <td>1.058988e+06</td>\n",
       "      <td>9127 Elizabeth Stravenue\\nDanieltown, WI 06482...</td>\n",
       "    </tr>\n",
       "    <tr>\n",
       "      <th>3</th>\n",
       "      <td>63345.240046</td>\n",
       "      <td>7.188236</td>\n",
       "      <td>5.586729</td>\n",
       "      <td>3.26</td>\n",
       "      <td>34310.242831</td>\n",
       "      <td>1.260617e+06</td>\n",
       "      <td>USS Barnett\\nFPO AP 44820</td>\n",
       "    </tr>\n",
       "    <tr>\n",
       "      <th>4</th>\n",
       "      <td>59982.197226</td>\n",
       "      <td>5.040555</td>\n",
       "      <td>7.839388</td>\n",
       "      <td>4.23</td>\n",
       "      <td>26354.109472</td>\n",
       "      <td>6.309435e+05</td>\n",
       "      <td>USNS Raymond\\nFPO AE 09386</td>\n",
       "    </tr>\n",
       "  </tbody>\n",
       "</table>\n",
       "</div>"
      ],
      "text/plain": [
       "   Avg. Area Income  Avg. Area House Age  Avg. Area Number of Rooms  \\\n",
       "0      79545.458574             5.682861                   7.009188   \n",
       "1      79248.642455             6.002900                   6.730821   \n",
       "2      61287.067179             5.865890                   8.512727   \n",
       "3      63345.240046             7.188236                   5.586729   \n",
       "4      59982.197226             5.040555                   7.839388   \n",
       "\n",
       "   Avg. Area Number of Bedrooms  Area Population         Price  \\\n",
       "0                          4.09     23086.800503  1.059034e+06   \n",
       "1                          3.09     40173.072174  1.505891e+06   \n",
       "2                          5.13     36882.159400  1.058988e+06   \n",
       "3                          3.26     34310.242831  1.260617e+06   \n",
       "4                          4.23     26354.109472  6.309435e+05   \n",
       "\n",
       "                                             Address  \n",
       "0  208 Michael Ferry Apt. 674\\nLaurabury, NE 3701...  \n",
       "1  188 Johnson Views Suite 079\\nLake Kathleen, CA...  \n",
       "2  9127 Elizabeth Stravenue\\nDanieltown, WI 06482...  \n",
       "3                          USS Barnett\\nFPO AP 44820  \n",
       "4                         USNS Raymond\\nFPO AE 09386  "
      ]
     },
     "execution_count": 1,
     "metadata": {},
     "output_type": "execute_result"
    }
   ],
   "source": [
    "import pandas as pd\n",
    "import numpy as np\n",
    "import seaborn as sns\n",
    "import warnings\n",
    "warnings.filterwarnings('ignore')\n",
    "from matplotlib import pyplot as plt\n",
    "\n",
    "df = pd.read_csv('/kaggle/input/usa-housing/USA_Housing.csv')\n",
    "df.head()"
   ]
  },
  {
   "cell_type": "code",
   "execution_count": 2,
   "id": "0f243ee0",
   "metadata": {
    "execution": {
     "iopub.execute_input": "2024-03-26T08:45:56.797184Z",
     "iopub.status.busy": "2024-03-26T08:45:56.796808Z",
     "iopub.status.idle": "2024-03-26T08:45:56.807252Z",
     "shell.execute_reply": "2024-03-26T08:45:56.805994Z"
    },
    "papermill": {
     "duration": 0.018112,
     "end_time": "2024-03-26T08:45:56.809611",
     "exception": false,
     "start_time": "2024-03-26T08:45:56.791499",
     "status": "completed"
    },
    "tags": []
   },
   "outputs": [],
   "source": [
    "df.drop(columns = 'Address', inplace = True)"
   ]
  },
  {
   "cell_type": "code",
   "execution_count": 3,
   "id": "289a4068",
   "metadata": {
    "execution": {
     "iopub.execute_input": "2024-03-26T08:45:56.819502Z",
     "iopub.status.busy": "2024-03-26T08:45:56.818723Z",
     "iopub.status.idle": "2024-03-26T08:45:56.825909Z",
     "shell.execute_reply": "2024-03-26T08:45:56.824638Z"
    },
    "papermill": {
     "duration": 0.014852,
     "end_time": "2024-03-26T08:45:56.828402",
     "exception": false,
     "start_time": "2024-03-26T08:45:56.813550",
     "status": "completed"
    },
    "tags": []
   },
   "outputs": [
    {
     "data": {
      "text/plain": [
       "(5000, 6)"
      ]
     },
     "execution_count": 3,
     "metadata": {},
     "output_type": "execute_result"
    }
   ],
   "source": [
    "df.shape"
   ]
  },
  {
   "cell_type": "code",
   "execution_count": 4,
   "id": "ff107e24",
   "metadata": {
    "execution": {
     "iopub.execute_input": "2024-03-26T08:45:56.838242Z",
     "iopub.status.busy": "2024-03-26T08:45:56.837848Z",
     "iopub.status.idle": "2024-03-26T08:45:56.851419Z",
     "shell.execute_reply": "2024-03-26T08:45:56.850295Z"
    },
    "papermill": {
     "duration": 0.021669,
     "end_time": "2024-03-26T08:45:56.854055",
     "exception": false,
     "start_time": "2024-03-26T08:45:56.832386",
     "status": "completed"
    },
    "tags": []
   },
   "outputs": [
    {
     "data": {
      "text/html": [
       "<div>\n",
       "<style scoped>\n",
       "    .dataframe tbody tr th:only-of-type {\n",
       "        vertical-align: middle;\n",
       "    }\n",
       "\n",
       "    .dataframe tbody tr th {\n",
       "        vertical-align: top;\n",
       "    }\n",
       "\n",
       "    .dataframe thead th {\n",
       "        text-align: right;\n",
       "    }\n",
       "</style>\n",
       "<table border=\"1\" class=\"dataframe\">\n",
       "  <thead>\n",
       "    <tr style=\"text-align: right;\">\n",
       "      <th></th>\n",
       "      <th>Avg. Area Income</th>\n",
       "      <th>Avg. Area House Age</th>\n",
       "      <th>Avg. Area Number of Rooms</th>\n",
       "      <th>Avg. Area Number of Bedrooms</th>\n",
       "      <th>Area Population</th>\n",
       "      <th>Price</th>\n",
       "    </tr>\n",
       "  </thead>\n",
       "  <tbody>\n",
       "    <tr>\n",
       "      <th>0</th>\n",
       "      <td>79545.458574</td>\n",
       "      <td>5.682861</td>\n",
       "      <td>7.009188</td>\n",
       "      <td>4.09</td>\n",
       "      <td>23086.800503</td>\n",
       "      <td>1.059034e+06</td>\n",
       "    </tr>\n",
       "    <tr>\n",
       "      <th>1</th>\n",
       "      <td>79248.642455</td>\n",
       "      <td>6.002900</td>\n",
       "      <td>6.730821</td>\n",
       "      <td>3.09</td>\n",
       "      <td>40173.072174</td>\n",
       "      <td>1.505891e+06</td>\n",
       "    </tr>\n",
       "    <tr>\n",
       "      <th>2</th>\n",
       "      <td>61287.067179</td>\n",
       "      <td>5.865890</td>\n",
       "      <td>8.512727</td>\n",
       "      <td>5.13</td>\n",
       "      <td>36882.159400</td>\n",
       "      <td>1.058988e+06</td>\n",
       "    </tr>\n",
       "    <tr>\n",
       "      <th>3</th>\n",
       "      <td>63345.240046</td>\n",
       "      <td>7.188236</td>\n",
       "      <td>5.586729</td>\n",
       "      <td>3.26</td>\n",
       "      <td>34310.242831</td>\n",
       "      <td>1.260617e+06</td>\n",
       "    </tr>\n",
       "    <tr>\n",
       "      <th>4</th>\n",
       "      <td>59982.197226</td>\n",
       "      <td>5.040555</td>\n",
       "      <td>7.839388</td>\n",
       "      <td>4.23</td>\n",
       "      <td>26354.109472</td>\n",
       "      <td>6.309435e+05</td>\n",
       "    </tr>\n",
       "  </tbody>\n",
       "</table>\n",
       "</div>"
      ],
      "text/plain": [
       "   Avg. Area Income  Avg. Area House Age  Avg. Area Number of Rooms  \\\n",
       "0      79545.458574             5.682861                   7.009188   \n",
       "1      79248.642455             6.002900                   6.730821   \n",
       "2      61287.067179             5.865890                   8.512727   \n",
       "3      63345.240046             7.188236                   5.586729   \n",
       "4      59982.197226             5.040555                   7.839388   \n",
       "\n",
       "   Avg. Area Number of Bedrooms  Area Population         Price  \n",
       "0                          4.09     23086.800503  1.059034e+06  \n",
       "1                          3.09     40173.072174  1.505891e+06  \n",
       "2                          5.13     36882.159400  1.058988e+06  \n",
       "3                          3.26     34310.242831  1.260617e+06  \n",
       "4                          4.23     26354.109472  6.309435e+05  "
      ]
     },
     "execution_count": 4,
     "metadata": {},
     "output_type": "execute_result"
    }
   ],
   "source": [
    "df.head()"
   ]
  },
  {
   "cell_type": "code",
   "execution_count": 5,
   "id": "607552b6",
   "metadata": {
    "execution": {
     "iopub.execute_input": "2024-03-26T08:45:56.865121Z",
     "iopub.status.busy": "2024-03-26T08:45:56.864315Z",
     "iopub.status.idle": "2024-03-26T08:45:58.036258Z",
     "shell.execute_reply": "2024-03-26T08:45:58.034421Z"
    },
    "papermill": {
     "duration": 1.180698,
     "end_time": "2024-03-26T08:45:58.039327",
     "exception": false,
     "start_time": "2024-03-26T08:45:56.858629",
     "status": "completed"
    },
    "tags": []
   },
   "outputs": [
    {
     "data": {
      "image/png": "[encoded data removed]",
      "text/plain": [
       "<Figure size 640x480 with 1 Axes>"
      ]
     },
     "metadata": {},
     "output_type": "display_data"
    },
    {
     "data": {
      "image/png": "[encoded data removed]",
      "text/plain": [
       "<Figure size 640x480 with 1 Axes>"
      ]
     },
     "metadata": {},
     "output_type": "display_data"
    },
    {
     "data": {
      "image/png": "[encoded data removed]",
      "text/plain": [
       "<Figure size 640x480 with 1 Axes>"
      ]
     },
     "metadata": {},
     "output_type": "display_data"
    },
    {
     "data": {
      "image/png": "[encoded data removed]",
      "text/plain": [
       "<Figure size 640x480 with 1 Axes>"
      ]
     },
     "metadata": {},
     "output_type": "display_data"
    },
    {
     "data": {
      "image/png": "[encoded data removed]",
      "text/plain": [
       "<Figure size 640x480 with 1 Axes>"
      ]
     },
     "metadata": {},
     "output_type": "display_data"
    },
    {
     "data": {
      "image/png": "[encoded data removed]",
      "text/plain": [
       "<Figure size 640x480 with 1 Axes>"
      ]
     },
     "metadata": {},
     "output_type": "display_data"
    }
   ],
   "source": [
    "for col in df.columns:\n",
    "    sns.boxplot(data = df, x = col)\n",
    "    plt.show()"
   ]
  },
  {
   "cell_type": "code",
   "execution_count": 6,
   "id": "ec770bfc",
   "metadata": {
    "execution": {
     "iopub.execute_input": "2024-03-26T08:45:58.053915Z",
     "iopub.status.busy": "2024-03-26T08:45:58.053530Z",
     "iopub.status.idle": "2024-03-26T08:45:58.074461Z",
     "shell.execute_reply": "2024-03-26T08:45:58.073537Z"
    },
    "papermill": {
     "duration": 0.031282,
     "end_time": "2024-03-26T08:45:58.077480",
     "exception": false,
     "start_time": "2024-03-26T08:45:58.046198",
     "status": "completed"
    },
    "tags": []
   },
   "outputs": [],
   "source": [
    "# remove outliers from all columns except price\n",
    "cols = df.drop(columns = 'Price').columns\n",
    "\n",
    "for col in cols:\n",
    "    q1 = df[col].quantile(0.25)\n",
    "    q3 = df[col].quantile(0.75)\n",
    "    iqr = q3 - q1\n",
    "    upper_bound = q3 + 1.5*(iqr)\n",
    "    lower_bound = q3 - 1.5*(iqr)\n",
    "    df = df[(df[col] > lower_bound) & (df[col] < upper_bound)]   "
   ]
  },
  {
   "cell_type": "code",
   "execution_count": 7,
   "id": "caa282b0",
   "metadata": {
    "execution": {
     "iopub.execute_input": "2024-03-26T08:45:58.090761Z",
     "iopub.status.busy": "2024-03-26T08:45:58.090316Z",
     "iopub.status.idle": "2024-03-26T08:45:58.107731Z",
     "shell.execute_reply": "2024-03-26T08:45:58.106564Z"
    },
    "papermill": {
     "duration": 0.026944,
     "end_time": "2024-03-26T08:45:58.110244",
     "exception": false,
     "start_time": "2024-03-26T08:45:58.083300",
     "status": "completed"
    },
    "tags": []
   },
   "outputs": [
    {
     "data": {
      "text/html": [
       "<div>\n",
       "<style scoped>\n",
       "    .dataframe tbody tr th:only-of-type {\n",
       "        vertical-align: middle;\n",
       "    }\n",
       "\n",
       "    .dataframe tbody tr th {\n",
       "        vertical-align: top;\n",
       "    }\n",
       "\n",
       "    .dataframe thead th {\n",
       "        text-align: right;\n",
       "    }\n",
       "</style>\n",
       "<table border=\"1\" class=\"dataframe\">\n",
       "  <thead>\n",
       "    <tr style=\"text-align: right;\">\n",
       "      <th></th>\n",
       "      <th>Avg. Area Income</th>\n",
       "      <th>Avg. Area House Age</th>\n",
       "      <th>Avg. Area Number of Rooms</th>\n",
       "      <th>Avg. Area Number of Bedrooms</th>\n",
       "      <th>Area Population</th>\n",
       "      <th>Price</th>\n",
       "    </tr>\n",
       "  </thead>\n",
       "  <tbody>\n",
       "    <tr>\n",
       "      <th>0</th>\n",
       "      <td>79545.458574</td>\n",
       "      <td>5.682861</td>\n",
       "      <td>7.009188</td>\n",
       "      <td>4.09</td>\n",
       "      <td>23086.800503</td>\n",
       "      <td>1.059034e+06</td>\n",
       "    </tr>\n",
       "    <tr>\n",
       "      <th>1</th>\n",
       "      <td>79248.642455</td>\n",
       "      <td>6.002900</td>\n",
       "      <td>6.730821</td>\n",
       "      <td>3.09</td>\n",
       "      <td>40173.072174</td>\n",
       "      <td>1.505891e+06</td>\n",
       "    </tr>\n",
       "    <tr>\n",
       "      <th>2</th>\n",
       "      <td>61287.067179</td>\n",
       "      <td>5.865890</td>\n",
       "      <td>8.512727</td>\n",
       "      <td>5.13</td>\n",
       "      <td>36882.159400</td>\n",
       "      <td>1.058988e+06</td>\n",
       "    </tr>\n",
       "    <tr>\n",
       "      <th>4</th>\n",
       "      <td>59982.197226</td>\n",
       "      <td>5.040555</td>\n",
       "      <td>7.839388</td>\n",
       "      <td>4.23</td>\n",
       "      <td>26354.109472</td>\n",
       "      <td>6.309435e+05</td>\n",
       "    </tr>\n",
       "    <tr>\n",
       "      <th>5</th>\n",
       "      <td>80175.754159</td>\n",
       "      <td>4.988408</td>\n",
       "      <td>6.104512</td>\n",
       "      <td>4.04</td>\n",
       "      <td>26748.428425</td>\n",
       "      <td>1.068138e+06</td>\n",
       "    </tr>\n",
       "    <tr>\n",
       "      <th>...</th>\n",
       "      <td>...</td>\n",
       "      <td>...</td>\n",
       "      <td>...</td>\n",
       "      <td>...</td>\n",
       "      <td>...</td>\n",
       "      <td>...</td>\n",
       "    </tr>\n",
       "    <tr>\n",
       "      <th>4993</th>\n",
       "      <td>69639.140896</td>\n",
       "      <td>5.007510</td>\n",
       "      <td>7.778375</td>\n",
       "      <td>6.05</td>\n",
       "      <td>54056.128430</td>\n",
       "      <td>1.381831e+06</td>\n",
       "    </tr>\n",
       "    <tr>\n",
       "      <th>4995</th>\n",
       "      <td>60567.944140</td>\n",
       "      <td>7.830362</td>\n",
       "      <td>6.137356</td>\n",
       "      <td>3.46</td>\n",
       "      <td>22837.361035</td>\n",
       "      <td>1.060194e+06</td>\n",
       "    </tr>\n",
       "    <tr>\n",
       "      <th>4996</th>\n",
       "      <td>78491.275435</td>\n",
       "      <td>6.999135</td>\n",
       "      <td>6.576763</td>\n",
       "      <td>4.02</td>\n",
       "      <td>25616.115489</td>\n",
       "      <td>1.482618e+06</td>\n",
       "    </tr>\n",
       "    <tr>\n",
       "      <th>4998</th>\n",
       "      <td>68001.331235</td>\n",
       "      <td>5.534388</td>\n",
       "      <td>7.130144</td>\n",
       "      <td>5.44</td>\n",
       "      <td>42625.620156</td>\n",
       "      <td>1.198657e+06</td>\n",
       "    </tr>\n",
       "    <tr>\n",
       "      <th>4999</th>\n",
       "      <td>65510.581804</td>\n",
       "      <td>5.992305</td>\n",
       "      <td>6.792336</td>\n",
       "      <td>4.07</td>\n",
       "      <td>46501.283803</td>\n",
       "      <td>1.298950e+06</td>\n",
       "    </tr>\n",
       "  </tbody>\n",
       "</table>\n",
       "<p>3188 rows × 6 columns</p>\n",
       "</div>"
      ],
      "text/plain": [
       "      Avg. Area Income  Avg. Area House Age  Avg. Area Number of Rooms  \\\n",
       "0         79545.458574             5.682861                   7.009188   \n",
       "1         79248.642455             6.002900                   6.730821   \n",
       "2         61287.067179             5.865890                   8.512727   \n",
       "4         59982.197226             5.040555                   7.839388   \n",
       "5         80175.754159             4.988408                   6.104512   \n",
       "...                ...                  ...                        ...   \n",
       "4993      69639.140896             5.007510                   7.778375   \n",
       "4995      60567.944140             7.830362                   6.137356   \n",
       "4996      78491.275435             6.999135                   6.576763   \n",
       "4998      68001.331235             5.534388                   7.130144   \n",
       "4999      65510.581804             5.992305                   6.792336   \n",
       "\n",
       "      Avg. Area Number of Bedrooms  Area Population         Price  \n",
       "0                             4.09     23086.800503  1.059034e+06  \n",
       "1                             3.09     40173.072174  1.505891e+06  \n",
       "2                             5.13     36882.159400  1.058988e+06  \n",
       "4                             4.23     26354.109472  6.309435e+05  \n",
       "5                             4.04     26748.428425  1.068138e+06  \n",
       "...                            ...              ...           ...  \n",
       "4993                          6.05     54056.128430  1.381831e+06  \n",
       "4995                          3.46     22837.361035  1.060194e+06  \n",
       "4996                          4.02     25616.115489  1.482618e+06  \n",
       "4998                          5.44     42625.620156  1.198657e+06  \n",
       "4999                          4.07     46501.283803  1.298950e+06  \n",
       "\n",
       "[3188 rows x 6 columns]"
      ]
     },
     "execution_count": 7,
     "metadata": {},
     "output_type": "execute_result"
    }
   ],
   "source": [
    "df"
   ]
  },
  {
   "cell_type": "code",
   "execution_count": 8,
   "id": "51705388",
   "metadata": {
    "execution": {
     "iopub.execute_input": "2024-03-26T08:45:58.124454Z",
     "iopub.status.busy": "2024-03-26T08:45:58.124040Z",
     "iopub.status.idle": "2024-03-26T08:45:58.496776Z",
     "shell.execute_reply": "2024-03-26T08:45:58.495568Z"
    },
    "papermill": {
     "duration": 0.383203,
     "end_time": "2024-03-26T08:45:58.499636",
     "exception": false,
     "start_time": "2024-03-26T08:45:58.116433",
     "status": "completed"
    },
    "tags": []
   },
   "outputs": [
    {
     "name": "stdout",
     "output_type": "stream",
     "text": [
      "(3188, 5) (3188,)\n"
     ]
    }
   ],
   "source": [
    "from sklearn.linear_model import LinearRegression\n",
    "from sklearn.model_selection import train_test_split\n",
    "from sklearn.metrics import r2_score, mean_squared_error, mean_absolute_error\n",
    "from sklearn.preprocessing import StandardScaler\n",
    "\n",
    "X = df.drop(columns = ['Price'], axis= 1)\n",
    "y = df['Price']\n",
    "print(X.shape, y.shape)"
   ]
  },
  {
   "cell_type": "code",
   "execution_count": 9,
   "id": "1de0eb82",
   "metadata": {
    "execution": {
     "iopub.execute_input": "2024-03-26T08:45:58.514243Z",
     "iopub.status.busy": "2024-03-26T08:45:58.513813Z",
     "iopub.status.idle": "2024-03-26T08:45:58.527168Z",
     "shell.execute_reply": "2024-03-26T08:45:58.526061Z"
    },
    "papermill": {
     "duration": 0.023383,
     "end_time": "2024-03-26T08:45:58.529488",
     "exception": false,
     "start_time": "2024-03-26T08:45:58.506105",
     "status": "completed"
    },
    "tags": []
   },
   "outputs": [
    {
     "data": {
      "text/plain": [
       "array([[ 1.01713396, -0.55597964, -0.22549247, -0.08029175, -1.74472048],\n",
       "       [ 0.98384252, -0.16752075, -0.55720468, -0.92502175,  0.3069183 ],\n",
       "       [-1.03076075, -0.33382181,  1.56617867,  0.79822745, -0.08823896],\n",
       "       ...,\n",
       "       [ 0.89889484,  1.04169758, -0.74078612, -0.13942285, -1.44101229],\n",
       "       [-0.27767656, -0.73619427, -0.08135731,  1.06009375,  0.60140868],\n",
       "       [-0.55704359, -0.18038023, -0.4839011 , -0.09718635,  1.06678006]])"
      ]
     },
     "execution_count": 9,
     "metadata": {},
     "output_type": "execute_result"
    }
   ],
   "source": [
    "sc = StandardScaler()\n",
    "X = sc.fit_transform(X)\n",
    "X"
   ]
  },
  {
   "cell_type": "code",
   "execution_count": 10,
   "id": "a132943d",
   "metadata": {
    "execution": {
     "iopub.execute_input": "2024-03-26T08:45:58.544709Z",
     "iopub.status.busy": "2024-03-26T08:45:58.543746Z",
     "iopub.status.idle": "2024-03-26T08:45:58.553194Z",
     "shell.execute_reply": "2024-03-26T08:45:58.551939Z"
    },
    "papermill": {
     "duration": 0.020023,
     "end_time": "2024-03-26T08:45:58.556079",
     "exception": false,
     "start_time": "2024-03-26T08:45:58.536056",
     "status": "completed"
    },
    "tags": []
   },
   "outputs": [],
   "source": [
    "X_train, X_test, y_train, y_test = train_test_split(X, y, random_state = 42, test_size = 0.2)"
   ]
  },
  {
   "cell_type": "code",
   "execution_count": 11,
   "id": "91694c94",
   "metadata": {
    "execution": {
     "iopub.execute_input": "2024-03-26T08:45:58.570625Z",
     "iopub.status.busy": "2024-03-26T08:45:58.570207Z",
     "iopub.status.idle": "2024-03-26T08:45:58.600120Z",
     "shell.execute_reply": "2024-03-26T08:45:58.598905Z"
    },
    "papermill": {
     "duration": 0.04093,
     "end_time": "2024-03-26T08:45:58.603449",
     "exception": false,
     "start_time": "2024-03-26T08:45:58.562519",
     "status": "completed"
    },
    "tags": []
   },
   "outputs": [],
   "source": [
    "lr = LinearRegression()\n",
    "\n",
    "lr.fit(X_train, y_train)\n",
    "y_pred = lr.predict(X_test)\n"
   ]
  },
  {
   "cell_type": "code",
   "execution_count": 12,
   "id": "5f8bb241",
   "metadata": {
    "execution": {
     "iopub.execute_input": "2024-03-26T08:45:58.618455Z",
     "iopub.status.busy": "2024-03-26T08:45:58.618038Z",
     "iopub.status.idle": "2024-03-26T08:45:58.627342Z",
     "shell.execute_reply": "2024-03-26T08:45:58.626140Z"
    },
    "papermill": {
     "duration": 0.019867,
     "end_time": "2024-03-26T08:45:58.629937",
     "exception": false,
     "start_time": "2024-03-26T08:45:58.610070",
     "status": "completed"
    },
    "tags": []
   },
   "outputs": [
    {
     "name": "stdout",
     "output_type": "stream",
     "text": [
      "r2 : 0.8887592543399061\n",
      "mse : 10919154854.85522\n",
      "mae : 84574.82884810984\n",
      "rmse : 104494.75993969852\n"
     ]
    }
   ],
   "source": [
    "r2 = r2_score(y_test, y_pred)\n",
    "print(f'r2 : {r2}')\n",
    "mse = mean_squared_error(y_test, y_pred)\n",
    "print(f'mse : {mse}')\n",
    "mae = mean_absolute_error(y_test, y_pred)\n",
    "print(f'mae : {mae}')\n",
    "print(f'rmse : {mse**0.5}')"
   ]
  },
  {
   "cell_type": "code",
   "execution_count": 13,
   "id": "b88bce4b",
   "metadata": {
    "execution": {
     "iopub.execute_input": "2024-03-26T08:45:58.645798Z",
     "iopub.status.busy": "2024-03-26T08:45:58.644622Z",
     "iopub.status.idle": "2024-03-26T08:45:59.079715Z",
     "shell.execute_reply": "2024-03-26T08:45:59.078769Z"
    },
    "papermill": {
     "duration": 0.445992,
     "end_time": "2024-03-26T08:45:59.082593",
     "exception": false,
     "start_time": "2024-03-26T08:45:58.636601",
     "status": "completed"
    },
    "tags": []
   },
   "outputs": [
    {
     "data": {
      "text/plain": [
       "Text(0, 0.5, 'Predicted Price')"
      ]
     },
     "execution_count": 13,
     "metadata": {},
     "output_type": "execute_result"
    },
    {
     "data": {
      "image/png": "[encoded data removed]",
      "text/plain": [
       "<Figure size 640x480 with 1 Axes>"
      ]
     },
     "metadata": {},
     "output_type": "display_data"
    }
   ],
   "source": [
    "sns.regplot(x = y_test, y = y_pred)\n",
    "plt.xlabel('Actual Price')\n",
    "plt.ylabel('Predicted Price')"
   ]
  }
 ],
 "metadata": {
  "kaggle": {
   "accelerator": "none",
   "dataSources": [
    {
     "datasetId": 4671560,
     "sourceId": 7945063,
     "sourceType": "datasetVersion"
    }
   ],
   "isGpuEnabled": false,
   "isInternetEnabled": true,
   "language": "python",
   "sourceType": "notebook"
  },
  "kernelspec": {
   "display_name": "Python 3",
   "language": "python",
   "name": "python3"
  },
  "language_info": {
   "codemirror_mode": {
    "name": "ipython",
    "version": 3
   },
   "file_extension": ".py",
   "mimetype": "text/x-python",
   "name": "python",
   "nbconvert_exporter": "python",
   "pygments_lexer": "ipython3",
   "version": "3.10.13"
  },
  "papermill": {
   "default_parameters": {},
   "duration": 8.164688,
   "end_time": "2024-03-26T08:45:59.712705",
   "environment_variables": {},
   "exception": null,
   "input_path": "__notebook__.ipynb",
   "output_path": "__notebook__.ipynb",
   "parameters": {},
   "start_time": "2024-03-26T08:45:51.548017",
   "version": "2.5.0"
  }
 },
 "nbformat": 4,
 "nbformat_minor": 5
}
